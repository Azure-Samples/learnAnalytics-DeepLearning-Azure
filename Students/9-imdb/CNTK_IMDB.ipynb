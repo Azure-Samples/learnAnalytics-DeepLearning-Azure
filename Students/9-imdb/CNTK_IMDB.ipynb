{
 "cells": [
  {
   "cell_type": "markdown",
   "metadata": {
    "deletable": true,
    "editable": true
   },
   "source": [
    "# High-level LSTM CNTK Example"
   ]
  },
  {
   "cell_type": "code",
   "execution_count": 1,
   "metadata": {
    "collapsed": false,
    "deletable": true,
    "editable": true
   },
   "outputs": [
    {
     "name": "stdout",
     "output_type": "stream",
     "text": [
      "Not working for some reason ...\n"
     ]
    }
   ],
   "source": [
    "print(\"Not working for some reason ...\")"
   ]
  },
  {
   "cell_type": "code",
   "execution_count": 2,
   "metadata": {
    "collapsed": true,
    "deletable": true,
    "editable": true
   },
   "outputs": [],
   "source": [
    "import numpy as np\n",
    "import os\n",
    "import sys\n",
    "import cntk\n",
    "from cntk.layers import Embedding, LSTM, Dense, Recurrence\n",
    "from cntk import sequence\n",
    "from common.params_lstm import *\n",
    "from common.utils import *"
   ]
  },
  {
   "cell_type": "code",
   "execution_count": 3,
   "metadata": {
    "collapsed": false,
    "deletable": true,
    "editable": true
   },
   "outputs": [
    {
     "name": "stdout",
     "output_type": "stream",
     "text": [
      "OS:  linux\n",
      "Python:  3.5.2 |Anaconda custom (64-bit)| (default, Jul  2 2016, 17:53:06) \n",
      "[GCC 4.4.7 20120313 (Red Hat 4.4.7-1)]\n",
      "Numpy:  1.13.1\n",
      "CNTK:  2.1\n",
      "GPU:  ['Tesla K80', 'Tesla K80', 'Tesla K80', 'Tesla K80']\n"
     ]
    }
   ],
   "source": [
    "print(\"OS: \", sys.platform)\n",
    "print(\"Python: \", sys.version)\n",
    "print(\"Numpy: \", np.__version__)\n",
    "print(\"CNTK: \", cntk.__version__)\n",
    "print(\"GPU: \", get_gpu_name())"
   ]
  },
  {
   "cell_type": "code",
   "execution_count": 4,
   "metadata": {
    "collapsed": true,
    "deletable": true,
    "editable": true
   },
   "outputs": [],
   "source": [
    "def create_symbol():\n",
    "    # Weight initialiser from uniform distribution\n",
    "    # Activation (unless states) is None\n",
    "    with cntk.layers.default_options(init = cntk.glorot_uniform()):\n",
    "        x = Embedding(EMBEDSIZE)(features)\n",
    "        # Fold same as recurrence but returns only final-state\n",
    "        x = Recurrence(LSTM(NUMHIDDEN))(x)\n",
    "        x = sequence.last(x)\n",
    "        x = Dense(1)(x)\n",
    "        return x"
   ]
  },
  {
   "cell_type": "code",
   "execution_count": 5,
   "metadata": {
    "collapsed": true,
    "deletable": true,
    "editable": true
   },
   "outputs": [],
   "source": [
    "def init_model(m):\n",
    "    # Loss (dense labels); check if support for sparse labels\n",
    "    loss = cntk.cross_entropy_with_softmax(m, labels)  \n",
    "    # ADAM\n",
    "    #Alpha is the learning_rate\n",
    "    #Beta1 is momentum parameter\n",
    "    #Beta2 is variance_momentum parameter  \n",
    "    learner = cntk.adam(m.parameters,\n",
    "                        lr=cntk.learning_rate_schedule(LR, cntk.UnitType.minibatch) ,\n",
    "                        momentum=cntk.momentum_schedule(BETA_1), \n",
    "                        variance_momentum=cntk.momentum_schedule(BETA_2),\n",
    "                        epsilon=EPS,\n",
    "                        unit_gain=False)\n",
    "    trainer = cntk.Trainer(m, (loss, cntk.classification_error(m, labels)), [learner])\n",
    "    return trainer"
   ]
  },
  {
   "cell_type": "code",
   "execution_count": 6,
   "metadata": {
    "collapsed": false,
    "deletable": true,
    "editable": true
   },
   "outputs": [
    {
     "name": "stdout",
     "output_type": "stream",
     "text": [
      "Downloading https://s3.amazonaws.com/text-datasets/imdb.npz\n",
      "Done.\n",
      "Extracting files...\n",
      "Done.\n",
      "Trimming to 20000 max-features\n",
      "Padding to length 150\n",
      "(25000, 150) (25000, 150) (25000,) (25000,)\n",
      "float32 float32 float32 float32\n",
      "CPU times: user 6.1 s, sys: 404 ms, total: 6.5 s\n",
      "Wall time: 7.56 s\n"
     ]
    }
   ],
   "source": [
    "%%time\n",
    "# Data into format for library\n",
    "x_train, x_test, y_train, y_test = imdb_for_library(seq_len=MAXLEN, max_features=MAXFEATURES)# CNTK format\n",
    "x_train = x_train.astype(np.float32)\n",
    "y_train = y_train.astype(np.float32)\n",
    "x_test = x_test.astype(np.float32)\n",
    "y_test = y_test.astype(np.float32)\n",
    "print(x_train.shape, x_test.shape, y_train.shape, y_test.shape)\n",
    "print(x_train.dtype, x_test.dtype, y_train.dtype, y_test.dtype)"
   ]
  },
  {
   "cell_type": "code",
   "execution_count": 7,
   "metadata": {
    "collapsed": false,
    "deletable": true,
    "editable": true
   },
   "outputs": [
    {
     "name": "stdout",
     "output_type": "stream",
     "text": [
      "Input('Input3', [#, *], [150])\n",
      "Input('Input4', [#], [1])\n",
      "CPU times: user 0 ns, sys: 212 ms, total: 212 ms\n",
      "Wall time: 275 ms\n"
     ]
    }
   ],
   "source": [
    "%%time\n",
    "# Placeholders\n",
    "features = sequence.input_variable(shape=MAXLEN, is_sparse=False)\n",
    "labels = cntk.input_variable(1)\n",
    "\n",
    "# Load symbol\n",
    "sym = create_symbol()\n",
    "\n",
    "print(features)\n",
    "print(labels)"
   ]
  },
  {
   "cell_type": "code",
   "execution_count": 8,
   "metadata": {
    "collapsed": false,
    "deletable": true,
    "editable": true
   },
   "outputs": [
    {
     "name": "stdout",
     "output_type": "stream",
     "text": [
      "CPU times: user 48 ms, sys: 232 ms, total: 280 ms\n",
      "Wall time: 372 ms\n"
     ]
    }
   ],
   "source": [
    "%%time\n",
    "trainer = init_model(sym)"
   ]
  },
  {
   "cell_type": "code",
   "execution_count": 9,
   "metadata": {
    "collapsed": false,
    "deletable": true,
    "editable": true
   },
   "outputs": [
    {
     "name": "stdout",
     "output_type": "stream",
     "text": [
      "<class 'numpy.ndarray'>\n",
      "(64, 150)\n",
      "<class 'numpy.ndarray'>\n",
      "(64, 1)\n"
     ]
    },
    {
     "ename": "RuntimeError",
     "evalue": "Node 'Plus666' (Plus operation): TensorSliceWithMBLayoutFor: FrameRange's dynamic axis is inconsistent with data: {numTimeSteps:1, numParallelSequences:64, sequences:[{seqId:0, s:0, begin:0, end:1}, {seqId:1, s:1, begin:0, end:1}, {seqId:2, s:2, begin:0, end:1}, {seqId:3, s:3, begin:0, end:1}, {seqId:4, s:4, begin:0, end:1}, {seqId:5, s:5, begin:0, end:1}, {seqId:6, s:6, begin:0, end:1}, {seqId:7, s:7, begin:0, end:1}, {seqId:8, s:8, begin:0, end:1}, {seqId:9, s:9, begin:0, end:1}, {seqId:10, s:10, begin:0, end:1}, {seqId:11, s:11, begin:0, end:1}, {seqId:12, s:12, begin:0, end:1}, {seqId:13, s:13, begin:0, end:1}, {seqId:14, s:14, begin:0, end:1}, {seqId:15, s:15, begin:0, end:1}, {seqId:16, s:16, begin:0, end:1}, {seqId:17, s:17, begin:0, end:1}, {seqId:18, s:18, begin:0, end:1}, {seqId:19, s:19, begin:0, end:1}, {seqId:20, s:20, begin:0, end:1}, {seqId:21, s:21, begin:0, end:1}, {seqId:22, s:22, begin:0, end:1}, {seqId:23, s:23, begin:0, end:1}, {seqId:24, s:24, begin:0, end:1}, {seqId:25, s:25, begin:0, end:1}, {seqId:26, s:26, begin:0, end:1}, {seqId:27, s:27, begin:0, end:1}, {seqId:28, s:28, begin:0, end:1}, {seqId:29, s:29, begin:0, end:1}, {seqId:30, s:30, begin:0, end:1}, {seqId:31, s:31, begin:0, end:1}, {seqId:32, s:32, begin:0, end:1}, {seqId:33, s:33, begin:0, end:1}, {seqId:34, s:34, begin:0, end:1}, {seqId:35, s:35, begin:0, end:1}, {seqId:36, s:36, begin:0, end:1}, {seqId:37, s:37, begin:0, end:1}, {seqId:38, s:38, begin:0, end:1}, {seqId:39, s:39, begin:0, end:1}, {seqId:40, s:40, begin:0, end:1}, {seqId:41, s:41, begin:0, end:1}, {seqId:42, s:42, begin:0, end:1}, {seqId:43, s:43, begin:0, end:1}, {seqId:44, s:44, begin:0, end:1}, {seqId:45, s:45, begin:0, end:1}, {seqId:46, s:46, begin:0, end:1}, {seqId:47, s:47, begin:0, end:1}, {seqId:48, s:48, begin:0, end:1}, {seqId:49, s:49, begin:0, end:1}, {seqId:50, s:50, begin:0, end:1}, {seqId:51, s:51, begin:0, end:1}, {seqId:52, s:52, begin:0, end:1}, {seqId:53, s:53, begin:0, end:1}, {seqId:54, s:54, begin:0, end:1}, {seqId:55, s:55, begin:0, end:1}, {seqId:56, s:56, begin:0, end:1}, {seqId:57, s:57, begin:0, end:1}, {seqId:58, s:58, begin:0, end:1}, {seqId:59, s:59, begin:0, end:1}, {seqId:60, s:60, begin:0, end:1}, {seqId:61, s:61, begin:0, end:1}, {seqId:62, s:62, begin:0, end:1}, {seqId:63, s:63, begin:0, end:1}]} vs. {numTimeSteps:1, numParallelSequences:1, sequences:[{seqId:0, s:0, begin:0, end:1}]}\n\n[CALL STACK]\n[0x7fcce5a0ed3c]                                                       + 0x56cd3c\n[0x7fcce5c6d46a]    Microsoft::MSR::CNTK::ComputationNodeBase::  GetTensorSliceFor  (unsigned long,  Microsoft::MSR::CNTK::FrameRange const&) const + 0x1ea\n[0x7fcce5a47d2c]    Microsoft::MSR::CNTK::ComputationNode<float>::  ValueTensorFor  (unsigned long,  Microsoft::MSR::CNTK::FrameRange const&) + 0x4c\n[0x7fcce5b00f8a]    void Microsoft::MSR::CNTK::ElementTimesNode<float>::  ForwardPropImpl  <Microsoft::MSR::CNTK::TimesNodeBase<float,true>>(Microsoft::MSR::CNTK::TimesNodeBase<float,true>&,  Microsoft::MSR::CNTK::FrameRange const&,  bool) + 0xca\n[0x7fcce5b1e926]    Microsoft::MSR::CNTK::TimesNodeBase<float,true>::  ForwardProp  (Microsoft::MSR::CNTK::FrameRange const&) + 0x4c6\n[0x7fcce5cfb204]    Microsoft::MSR::CNTK::ComputationNetwork::PARTraversalFlowControlNode::  ForwardProp  (std::shared_ptr<Microsoft::MSR::CNTK::ComputationNodeBase> const&,  Microsoft::MSR::CNTK::FrameRange const&) + 0xc4\n[0x7fcce5b7b845]    std::_Function_handler<void (std::shared_ptr<Microsoft::MSR::CNTK::ComputationNodeBase> const&),void Microsoft::MSR::CNTK::ComputationNetwork::ForwardProp<std::vector<std::shared_ptr<Microsoft::MSR::CNTK::ComputationNodeBase>,std::allocator<std::shared_ptr<Microsoft::MSR::CNTK::ComputationNodeBase>>>>(std::vector<std::shared_ptr<Microsoft::MSR::CNTK::ComputationNodeBase>,std::allocator<std::shared_ptr<Microsoft::MSR::CNTK::ComputationNodeBase>>> const&)::{lambda(std::shared_ptr<Microsoft::MSR::CNTK::ComputationNodeBase> const&)#1}>::  _M_invoke  (std::_Any_data const&,  std::shared_ptr<Microsoft::MSR::CNTK::ComputationNodeBase> const&) + 0x35\n[0x7fcce5ba480d]    void Microsoft::MSR::CNTK::ComputationNetwork::  TravserseInSortedGlobalEvalOrder  <std::vector<std::shared_ptr<Microsoft::MSR::CNTK::ComputationNodeBase>,std::allocator<std::shared_ptr<Microsoft::MSR::CNTK::ComputationNodeBase>>>>(std::vector<std::shared_ptr<Microsoft::MSR::CNTK::ComputationNodeBase>,std::allocator<std::shared_ptr<Microsoft::MSR::CNTK::ComputationNodeBase>>> const&,  std::function<void (std::shared_ptr<Microsoft::MSR::CNTK::ComputationNodeBase> const&)> const&) + 0x3ed\n[0x7fcce5b7133e]    CNTK::CompositeFunction::  Forward  (std::unordered_map<CNTK::Variable,std::shared_ptr<CNTK::Value>,std::hash<CNTK::Variable>,std::equal_to<CNTK::Variable>,std::allocator<std::pair<CNTK::Variable const,std::shared_ptr<CNTK::Value>>>> const&,  std::unordered_map<CNTK::Variable,std::shared_ptr<CNTK::Value>,std::hash<CNTK::Variable>,std::equal_to<CNTK::Variable>,std::allocator<std::pair<CNTK::Variable const,std::shared_ptr<CNTK::Value>>>>&,  CNTK::DeviceDescriptor const&,  std::unordered_set<CNTK::Variable,std::hash<CNTK::Variable>,std::equal_to<CNTK::Variable>,std::allocator<CNTK::Variable>> const&,  std::unordered_set<CNTK::Variable,std::hash<CNTK::Variable>,std::equal_to<CNTK::Variable>,std::allocator<CNTK::Variable>> const&) + 0x7ae\n[0x7fcce5b2f161]    CNTK::Function::  Forward  (std::unordered_map<CNTK::Variable,std::shared_ptr<CNTK::Value>,std::hash<CNTK::Variable>,std::equal_to<CNTK::Variable>,std::allocator<std::pair<CNTK::Variable const,std::shared_ptr<CNTK::Value>>>> const&,  std::unordered_map<CNTK::Variable,std::shared_ptr<CNTK::Value>,std::hash<CNTK::Variable>,std::equal_to<CNTK::Variable>,std::allocator<std::pair<CNTK::Variable const,std::shared_ptr<CNTK::Value>>>>&,  CNTK::DeviceDescriptor const&,  std::unordered_set<CNTK::Variable,std::hash<CNTK::Variable>,std::equal_to<CNTK::Variable>,std::allocator<CNTK::Variable>> const&,  std::unordered_set<CNTK::Variable,std::hash<CNTK::Variable>,std::equal_to<CNTK::Variable>,std::allocator<CNTK::Variable>> const&) + 0x81\n[0x7fcce5beaa9d]    CNTK::Trainer::  ExecuteForwardBackward  (std::unordered_map<CNTK::Variable,std::shared_ptr<CNTK::Value>,std::hash<CNTK::Variable>,std::equal_to<CNTK::Variable>,std::allocator<std::pair<CNTK::Variable const,std::shared_ptr<CNTK::Value>>>> const&,  std::unordered_map<CNTK::Variable,std::shared_ptr<CNTK::Value>,std::hash<CNTK::Variable>,std::equal_to<CNTK::Variable>,std::allocator<std::pair<CNTK::Variable const,std::shared_ptr<CNTK::Value>>>>&,  CNTK::DeviceDescriptor const&,  std::unordered_map<CNTK::Variable,std::shared_ptr<CNTK::Value>,std::hash<CNTK::Variable>,std::equal_to<CNTK::Variable>,std::allocator<std::pair<CNTK::Variable const,std::shared_ptr<CNTK::Value>>>>&) + 0x24d\n[0x7fcce5beb5e3]    CNTK::Trainer::  TrainLocalMinibatch  (std::unordered_map<CNTK::Variable,std::shared_ptr<CNTK::Value>,std::hash<CNTK::Variable>,std::equal_to<CNTK::Variable>,std::allocator<std::pair<CNTK::Variable const,std::shared_ptr<CNTK::Value>>>> const&,  std::unordered_map<CNTK::Variable,std::shared_ptr<CNTK::Value>,std::hash<CNTK::Variable>,std::equal_to<CNTK::Variable>,std::allocator<std::pair<CNTK::Variable const,std::shared_ptr<CNTK::Value>>>>&,  bool,  CNTK::DeviceDescriptor const&) + 0xd3\n[0x7fcce5bec2a4]    CNTK::Trainer::  TrainMinibatch  (std::unordered_map<CNTK::Variable,std::shared_ptr<CNTK::Value>,std::hash<CNTK::Variable>,std::equal_to<CNTK::Variable>,std::allocator<std::pair<CNTK::Variable const,std::shared_ptr<CNTK::Value>>>> const&,  std::unordered_map<CNTK::Variable,std::shared_ptr<CNTK::Value>,std::hash<CNTK::Variable>,std::equal_to<CNTK::Variable>,std::allocator<std::pair<CNTK::Variable const,std::shared_ptr<CNTK::Value>>>>&,  CNTK::DeviceDescriptor const&) + 0x44\n[0x7fcce5bec3a0]    CNTK::Trainer::  TrainMinibatch  (std::unordered_map<CNTK::Variable,std::shared_ptr<CNTK::Value>,std::hash<CNTK::Variable>,std::equal_to<CNTK::Variable>,std::allocator<std::pair<CNTK::Variable const,std::shared_ptr<CNTK::Value>>>> const&,  CNTK::DeviceDescriptor const&) + 0xa0\n[0x7fcce65cac9f]                                                       + 0x1efc9f\n[0x7fcd486615e9]    PyCFunction_Call                                   + 0xf9\n[0x7fcd486e67c0]    PyEval_EvalFrameEx                                 + 0x6ba0\n[0x7fcd486e9b49]                                                       + 0x144b49\n[0x7fcd486e8df5]    PyEval_EvalFrameEx                                 + 0x91d5\n[0x7fcd486e9b49]                                                       + 0x144b49\n[0x7fcd486e8df5]    PyEval_EvalFrameEx                                 + 0x91d5\n[0x7fcd486e9b49]                                                       + 0x144b49\n[0x7fcd486e9cd8]    PyEval_EvalCodeEx                                  + 0x48\n[0x7fcd486e9d1b]    PyEval_EvalCode                                    + 0x3b\n[0x7fcd486dcdfe]                                                       + 0x137dfe\n[0x7fcd486615e9]    PyCFunction_Call                                   + 0xf9\n[0x7fcd486e8bd5]    PyEval_EvalFrameEx                                 + 0x8fb5\n[0x7fcd486e9b49]                                                       + 0x144b49\n[0x7fcd486e9cd8]    PyEval_EvalCodeEx                                  + 0x48\n[0x7fcd4863f661]                                                       + 0x9a661\n[0x7fcd4860c236]    PyObject_Call                                      + 0x56\n[0x7fcd486e6234]    PyEval_EvalFrameEx                                 + 0x6614\n[0x7fcd486e9b49]                                                       + 0x144b49\n[0x7fcd486e8df5]    PyEval_EvalFrameEx                                 + 0x91d5\n[0x7fcd486e9b49]                                                       + 0x144b49\n[0x7fcd486e8df5]    PyEval_EvalFrameEx                                 + 0x91d5\n[0x7fcd486e9166]    PyEval_EvalFrameEx                                 + 0x9546\n[0x7fcd486e9b49]                                                       + 0x144b49\n[0x7fcd486e9cd8]    PyEval_EvalCodeEx                                  + 0x48\n[0x7fcd486e9d1b]    PyEval_EvalCode                                    + 0x3b\n[0x7fcd486dcdfe]                                                       + 0x137dfe\n[0x7fcd486615e9]    PyCFunction_Call                                   + 0xf9\n[0x7fcd486e8bd5]    PyEval_EvalFrameEx                                 + 0x8fb5\n[0x7fcd486e9b49]                                                       + 0x144b49\n[0x7fcd486e8df5]    PyEval_EvalFrameEx                                 + 0x91d5\n[0x7fcd486e9b49]                                                       + 0x144b49\n[0x7fcd486e8df5]    PyEval_EvalFrameEx                                 + 0x91d5\n[0x7fcd486e9b49]                                                       + 0x144b49\n[0x7fcd486e9cd8]    PyEval_EvalCodeEx                                  + 0x48\n[0x7fcd4863f661]                                                       + 0x9a661\n[0x7fcd4860c236]    PyObject_Call                                      + 0x56\n[0x7fcd486e6234]    PyEval_EvalFrameEx                                 + 0x6614\n[0x7fcd486e9b49]                                                       + 0x144b49\n[0x7fcd486e8df5]    PyEval_EvalFrameEx                                 + 0x91d5\n[0x7fcd486e9b49]                                                       + 0x144b49\n[0x7fcd486e8df5]    PyEval_EvalFrameEx                                 + 0x91d5\n[0x7fcd486e9166]    PyEval_EvalFrameEx                                 + 0x9546 (x2)\n[0x7fcd486e9b49]                                                       + 0x144b49\n[0x7fcd486e9cd8]    PyEval_EvalCodeEx                                  + 0x48\n[0x7fcd4863f661]                                                       + 0x9a661\n[0x7fcd4860c236]    PyObject_Call                                      + 0x56\n[0x7fcd486e6234]    PyEval_EvalFrameEx                                 + 0x6614\n[0x7fcd486e9b49]                                                       + 0x144b49\n[0x7fcd486e9cd8]    PyEval_EvalCodeEx                                  + 0x48\n[0x7fcd4863f661]                                                       + 0x9a661\n[0x7fcd4860c236]    PyObject_Call                                      + 0x56\n[0x7fcd486e6234]    PyEval_EvalFrameEx                                 + 0x6614\n[0x7fcd486e9b49]                                                       + 0x144b49\n[0x7fcd486e8df5]    PyEval_EvalFrameEx                                 + 0x91d5\n[0x7fcd486e9166]    PyEval_EvalFrameEx                                 + 0x9546\n[0x7fcd486e9b49]                                                       + 0x144b49\n[0x7fcd486e9cd8]    PyEval_EvalCodeEx                                  + 0x48\n[0x7fcd4863f661]                                                       + 0x9a661\n[0x7fcd4860c236]    PyObject_Call                                      + 0x56\n[0x7fcd486e6234]    PyEval_EvalFrameEx                                 + 0x6614\n[0x7fcd486e9b49]                                                       + 0x144b49\n[0x7fcd486e8df5]    PyEval_EvalFrameEx                                 + 0x91d5\n[0x7fcd486e9166]    PyEval_EvalFrameEx                                 + 0x9546\n[0x7fcd486e9b49]                                                       + 0x144b49\n[0x7fcd486e8df5]    PyEval_EvalFrameEx                                 + 0x91d5\n[0x7fcd486e9166]    PyEval_EvalFrameEx                                 + 0x9546\n[0x7fcd486e9b49]                                                       + 0x144b49\n[0x7fcd486e8df5]    PyEval_EvalFrameEx                                 + 0x91d5\n[0x7fcd486e9b49]                                                       + 0x144b49\n[0x7fcd486e9cd8]    PyEval_EvalCodeEx                                  + 0x48\n[0x7fcd486e9d1b]    PyEval_EvalCode                                    + 0x3b\n[0x7fcd486dcdfe]                                                       + 0x137dfe\n[0x7fcd486615e9]    PyCFunction_Call                                   + 0xf9\n[0x7fcd486e8bd5]    PyEval_EvalFrameEx                                 + 0x8fb5\n[0x7fcd486e9b49]                                                       + 0x144b49\n[0x7fcd486e8df5]    PyEval_EvalFrameEx                                 + 0x91d5\n[0x7fcd486e9b49]                                                       + 0x144b49\n[0x7fcd486e9cd8]    PyEval_EvalCodeEx                                  + 0x48\n[0x7fcd4863f542]                                                       + 0x9a542\n[0x7fcd4860c236]    PyObject_Call                                      + 0x56\n[0x7fcd4872a8a2]                                                       + 0x1858a2\n[0x7fcd4872b565]    Py_Main                                            + 0x945\n[0x400add]          main                                               + 0x15d\n[0x7fcd476c6830]    __libc_start_main                                  + 0xf0\n[0x4008b9]                                                            \n",
     "output_type": "error",
     "traceback": [
      "\u001b[1;31m---------------------------------------------------------------------------\u001b[0m",
      "\u001b[1;31mRuntimeError\u001b[0m                              Traceback (most recent call last)",
      "\u001b[1;32m<ipython-input-9-16c28acc39d5>\u001b[0m in \u001b[0;36m<module>\u001b[1;34m()\u001b[0m\n\u001b[1;32m----> 1\u001b[1;33m \u001b[0mget_ipython\u001b[0m\u001b[1;33m(\u001b[0m\u001b[1;33m)\u001b[0m\u001b[1;33m.\u001b[0m\u001b[0mrun_cell_magic\u001b[0m\u001b[1;33m(\u001b[0m\u001b[1;34m'time'\u001b[0m\u001b[1;33m,\u001b[0m \u001b[1;34m''\u001b[0m\u001b[1;33m,\u001b[0m \u001b[1;34m'# Train model\\nfor j in range(EPOCHS):\\n    for data, label in yield_mb(x_train, y_train, BATCHSIZE, shuffle=True):\\n        label = label.reshape(BATCHSIZE, 1)\\n        print(type(data))\\n        print(data.shape)\\n        print(type(label))\\n        print(label.shape)\\n        trainer.train_minibatch({features: data, labels: label})\\n        print(len(data))\\n        print(data[0])\\n        break\\n    break\\n    # Log (this is just last batch in epoch, not average of batches)\\n    eval_error = trainer.previous_minibatch_evaluation_average\\n    print(\"Epoch %d  |  Accuracy: %.6f\" % (j+1, (1-eval_error)))'\u001b[0m\u001b[1;33m)\u001b[0m\u001b[1;33m\u001b[0m\u001b[0m\n\u001b[0m",
      "\u001b[1;32m/anaconda/envs/py35/lib/python3.5/site-packages/IPython/core/interactiveshell.py\u001b[0m in \u001b[0;36mrun_cell_magic\u001b[1;34m(self, magic_name, line, cell)\u001b[0m\n\u001b[0;32m   2118\u001b[0m             \u001b[0mmagic_arg_s\u001b[0m \u001b[1;33m=\u001b[0m \u001b[0mself\u001b[0m\u001b[1;33m.\u001b[0m\u001b[0mvar_expand\u001b[0m\u001b[1;33m(\u001b[0m\u001b[0mline\u001b[0m\u001b[1;33m,\u001b[0m \u001b[0mstack_depth\u001b[0m\u001b[1;33m)\u001b[0m\u001b[1;33m\u001b[0m\u001b[0m\n\u001b[0;32m   2119\u001b[0m             \u001b[1;32mwith\u001b[0m \u001b[0mself\u001b[0m\u001b[1;33m.\u001b[0m\u001b[0mbuiltin_trap\u001b[0m\u001b[1;33m:\u001b[0m\u001b[1;33m\u001b[0m\u001b[0m\n\u001b[1;32m-> 2120\u001b[1;33m                 \u001b[0mresult\u001b[0m \u001b[1;33m=\u001b[0m \u001b[0mfn\u001b[0m\u001b[1;33m(\u001b[0m\u001b[0mmagic_arg_s\u001b[0m\u001b[1;33m,\u001b[0m \u001b[0mcell\u001b[0m\u001b[1;33m)\u001b[0m\u001b[1;33m\u001b[0m\u001b[0m\n\u001b[0m\u001b[0;32m   2121\u001b[0m             \u001b[1;32mreturn\u001b[0m \u001b[0mresult\u001b[0m\u001b[1;33m\u001b[0m\u001b[0m\n\u001b[0;32m   2122\u001b[0m \u001b[1;33m\u001b[0m\u001b[0m\n",
      "\u001b[1;32m<decorator-gen-60>\u001b[0m in \u001b[0;36mtime\u001b[1;34m(self, line, cell, local_ns)\u001b[0m\n",
      "\u001b[1;32m/anaconda/envs/py35/lib/python3.5/site-packages/IPython/core/magic.py\u001b[0m in \u001b[0;36m<lambda>\u001b[1;34m(f, *a, **k)\u001b[0m\n\u001b[0;32m    191\u001b[0m     \u001b[1;31m# but it's overkill for just that one bit of state.\u001b[0m\u001b[1;33m\u001b[0m\u001b[1;33m\u001b[0m\u001b[0m\n\u001b[0;32m    192\u001b[0m     \u001b[1;32mdef\u001b[0m \u001b[0mmagic_deco\u001b[0m\u001b[1;33m(\u001b[0m\u001b[0marg\u001b[0m\u001b[1;33m)\u001b[0m\u001b[1;33m:\u001b[0m\u001b[1;33m\u001b[0m\u001b[0m\n\u001b[1;32m--> 193\u001b[1;33m         \u001b[0mcall\u001b[0m \u001b[1;33m=\u001b[0m \u001b[1;32mlambda\u001b[0m \u001b[0mf\u001b[0m\u001b[1;33m,\u001b[0m \u001b[1;33m*\u001b[0m\u001b[0ma\u001b[0m\u001b[1;33m,\u001b[0m \u001b[1;33m**\u001b[0m\u001b[0mk\u001b[0m\u001b[1;33m:\u001b[0m \u001b[0mf\u001b[0m\u001b[1;33m(\u001b[0m\u001b[1;33m*\u001b[0m\u001b[0ma\u001b[0m\u001b[1;33m,\u001b[0m \u001b[1;33m**\u001b[0m\u001b[0mk\u001b[0m\u001b[1;33m)\u001b[0m\u001b[1;33m\u001b[0m\u001b[0m\n\u001b[0m\u001b[0;32m    194\u001b[0m \u001b[1;33m\u001b[0m\u001b[0m\n\u001b[0;32m    195\u001b[0m         \u001b[1;32mif\u001b[0m \u001b[0mcallable\u001b[0m\u001b[1;33m(\u001b[0m\u001b[0marg\u001b[0m\u001b[1;33m)\u001b[0m\u001b[1;33m:\u001b[0m\u001b[1;33m\u001b[0m\u001b[0m\n",
      "\u001b[1;32m/anaconda/envs/py35/lib/python3.5/site-packages/IPython/core/magics/execution.py\u001b[0m in \u001b[0;36mtime\u001b[1;34m(self, line, cell, local_ns)\u001b[0m\n\u001b[0;32m   1175\u001b[0m         \u001b[1;32melse\u001b[0m\u001b[1;33m:\u001b[0m\u001b[1;33m\u001b[0m\u001b[0m\n\u001b[0;32m   1176\u001b[0m             \u001b[0mst\u001b[0m \u001b[1;33m=\u001b[0m \u001b[0mclock2\u001b[0m\u001b[1;33m(\u001b[0m\u001b[1;33m)\u001b[0m\u001b[1;33m\u001b[0m\u001b[0m\n\u001b[1;32m-> 1177\u001b[1;33m             \u001b[0mexec\u001b[0m\u001b[1;33m(\u001b[0m\u001b[0mcode\u001b[0m\u001b[1;33m,\u001b[0m \u001b[0mglob\u001b[0m\u001b[1;33m,\u001b[0m \u001b[0mlocal_ns\u001b[0m\u001b[1;33m)\u001b[0m\u001b[1;33m\u001b[0m\u001b[0m\n\u001b[0m\u001b[0;32m   1178\u001b[0m             \u001b[0mend\u001b[0m \u001b[1;33m=\u001b[0m \u001b[0mclock2\u001b[0m\u001b[1;33m(\u001b[0m\u001b[1;33m)\u001b[0m\u001b[1;33m\u001b[0m\u001b[0m\n\u001b[0;32m   1179\u001b[0m             \u001b[0mout\u001b[0m \u001b[1;33m=\u001b[0m \u001b[1;32mNone\u001b[0m\u001b[1;33m\u001b[0m\u001b[0m\n",
      "\u001b[1;32m<timed exec>\u001b[0m in \u001b[0;36m<module>\u001b[1;34m()\u001b[0m\n",
      "\u001b[1;32m/anaconda/envs/py35/lib/python3.5/site-packages/cntk/train/trainer.py\u001b[0m in \u001b[0;36mtrain_minibatch\u001b[1;34m(self, arguments, outputs, device)\u001b[0m\n\u001b[0;32m    171\u001b[0m             \u001b[1;32melse\u001b[0m\u001b[1;33m:\u001b[0m\u001b[1;33m\u001b[0m\u001b[0m\n\u001b[0;32m    172\u001b[0m                 updated = super(Trainer, self).train_minibatch(arguments,\n\u001b[1;32m--> 173\u001b[1;33m                     device)\n\u001b[0m\u001b[0;32m    174\u001b[0m \u001b[1;33m\u001b[0m\u001b[0m\n\u001b[0;32m    175\u001b[0m         \u001b[1;32mreturn\u001b[0m \u001b[0mupdated\u001b[0m\u001b[1;33m\u001b[0m\u001b[0m\n",
      "\u001b[1;32m/anaconda/envs/py35/lib/python3.5/site-packages/cntk/cntk_py.py\u001b[0m in \u001b[0;36mtrain_minibatch\u001b[1;34m(self, *args)\u001b[0m\n\u001b[0;32m   2767\u001b[0m \u001b[1;33m\u001b[0m\u001b[0m\n\u001b[0;32m   2768\u001b[0m     \u001b[1;32mdef\u001b[0m \u001b[0mtrain_minibatch\u001b[0m\u001b[1;33m(\u001b[0m\u001b[0mself\u001b[0m\u001b[1;33m,\u001b[0m \u001b[1;33m*\u001b[0m\u001b[0margs\u001b[0m\u001b[1;33m)\u001b[0m\u001b[1;33m:\u001b[0m\u001b[1;33m\u001b[0m\u001b[0m\n\u001b[1;32m-> 2769\u001b[1;33m         \u001b[1;32mreturn\u001b[0m \u001b[0m_cntk_py\u001b[0m\u001b[1;33m.\u001b[0m\u001b[0mTrainer_train_minibatch\u001b[0m\u001b[1;33m(\u001b[0m\u001b[0mself\u001b[0m\u001b[1;33m,\u001b[0m \u001b[1;33m*\u001b[0m\u001b[0margs\u001b[0m\u001b[1;33m)\u001b[0m\u001b[1;33m\u001b[0m\u001b[0m\n\u001b[0m\u001b[0;32m   2770\u001b[0m \u001b[1;33m\u001b[0m\u001b[0m\n\u001b[0;32m   2771\u001b[0m     \u001b[1;32mdef\u001b[0m \u001b[0msave_checkpoint\u001b[0m\u001b[1;33m(\u001b[0m\u001b[0mself\u001b[0m\u001b[1;33m,\u001b[0m \u001b[1;33m*\u001b[0m\u001b[0margs\u001b[0m\u001b[1;33m)\u001b[0m\u001b[1;33m:\u001b[0m\u001b[1;33m\u001b[0m\u001b[0m\n",
      "\u001b[1;31mRuntimeError\u001b[0m: Node 'Plus666' (Plus operation): TensorSliceWithMBLayoutFor: FrameRange's dynamic axis is inconsistent with data: {numTimeSteps:1, numParallelSequences:64, sequences:[{seqId:0, s:0, begin:0, end:1}, {seqId:1, s:1, begin:0, end:1}, {seqId:2, s:2, begin:0, end:1}, {seqId:3, s:3, begin:0, end:1}, {seqId:4, s:4, begin:0, end:1}, {seqId:5, s:5, begin:0, end:1}, {seqId:6, s:6, begin:0, end:1}, {seqId:7, s:7, begin:0, end:1}, {seqId:8, s:8, begin:0, end:1}, {seqId:9, s:9, begin:0, end:1}, {seqId:10, s:10, begin:0, end:1}, {seqId:11, s:11, begin:0, end:1}, {seqId:12, s:12, begin:0, end:1}, {seqId:13, s:13, begin:0, end:1}, {seqId:14, s:14, begin:0, end:1}, {seqId:15, s:15, begin:0, end:1}, {seqId:16, s:16, begin:0, end:1}, {seqId:17, s:17, begin:0, end:1}, {seqId:18, s:18, begin:0, end:1}, {seqId:19, s:19, begin:0, end:1}, {seqId:20, s:20, begin:0, end:1}, {seqId:21, s:21, begin:0, end:1}, {seqId:22, s:22, begin:0, end:1}, {seqId:23, s:23, begin:0, end:1}, {seqId:24, s:24, begin:0, end:1}, {seqId:25, s:25, begin:0, end:1}, {seqId:26, s:26, begin:0, end:1}, {seqId:27, s:27, begin:0, end:1}, {seqId:28, s:28, begin:0, end:1}, {seqId:29, s:29, begin:0, end:1}, {seqId:30, s:30, begin:0, end:1}, {seqId:31, s:31, begin:0, end:1}, {seqId:32, s:32, begin:0, end:1}, {seqId:33, s:33, begin:0, end:1}, {seqId:34, s:34, begin:0, end:1}, {seqId:35, s:35, begin:0, end:1}, {seqId:36, s:36, begin:0, end:1}, {seqId:37, s:37, begin:0, end:1}, {seqId:38, s:38, begin:0, end:1}, {seqId:39, s:39, begin:0, end:1}, {seqId:40, s:40, begin:0, end:1}, {seqId:41, s:41, begin:0, end:1}, {seqId:42, s:42, begin:0, end:1}, {seqId:43, s:43, begin:0, end:1}, {seqId:44, s:44, begin:0, end:1}, {seqId:45, s:45, begin:0, end:1}, {seqId:46, s:46, begin:0, end:1}, {seqId:47, s:47, begin:0, end:1}, {seqId:48, s:48, begin:0, end:1}, {seqId:49, s:49, begin:0, end:1}, {seqId:50, s:50, begin:0, end:1}, {seqId:51, s:51, begin:0, end:1}, {seqId:52, s:52, begin:0, end:1}, {seqId:53, s:53, begin:0, end:1}, {seqId:54, s:54, begin:0, end:1}, {seqId:55, s:55, begin:0, end:1}, {seqId:56, s:56, begin:0, end:1}, {seqId:57, s:57, begin:0, end:1}, {seqId:58, s:58, begin:0, end:1}, {seqId:59, s:59, begin:0, end:1}, {seqId:60, s:60, begin:0, end:1}, {seqId:61, s:61, begin:0, end:1}, {seqId:62, s:62, begin:0, end:1}, {seqId:63, s:63, begin:0, end:1}]} vs. {numTimeSteps:1, numParallelSequences:1, sequences:[{seqId:0, s:0, begin:0, end:1}]}\n\n[CALL STACK]\n[0x7fcce5a0ed3c]                                                       + 0x56cd3c\n[0x7fcce5c6d46a]    Microsoft::MSR::CNTK::ComputationNodeBase::  GetTensorSliceFor  (unsigned long,  Microsoft::MSR::CNTK::FrameRange const&) const + 0x1ea\n[0x7fcce5a47d2c]    Microsoft::MSR::CNTK::ComputationNode<float>::  ValueTensorFor  (unsigned long,  Microsoft::MSR::CNTK::FrameRange const&) + 0x4c\n[0x7fcce5b00f8a]    void Microsoft::MSR::CNTK::ElementTimesNode<float>::  ForwardPropImpl  <Microsoft::MSR::CNTK::TimesNodeBase<float,true>>(Microsoft::MSR::CNTK::TimesNodeBase<float,true>&,  Microsoft::MSR::CNTK::FrameRange const&,  bool) + 0xca\n[0x7fcce5b1e926]    Microsoft::MSR::CNTK::TimesNodeBase<float,true>::  ForwardProp  (Microsoft::MSR::CNTK::FrameRange const&) + 0x4c6\n[0x7fcce5cfb204]    Microsoft::MSR::CNTK::ComputationNetwork::PARTraversalFlowControlNode::  ForwardProp  (std::shared_ptr<Microsoft::MSR::CNTK::ComputationNodeBase> const&,  Microsoft::MSR::CNTK::FrameRange const&) + 0xc4\n[0x7fcce5b7b845]    std::_Function_handler<void (std::shared_ptr<Microsoft::MSR::CNTK::ComputationNodeBase> const&),void Microsoft::MSR::CNTK::ComputationNetwork::ForwardProp<std::vector<std::shared_ptr<Microsoft::MSR::CNTK::ComputationNodeBase>,std::allocator<std::shared_ptr<Microsoft::MSR::CNTK::ComputationNodeBase>>>>(std::vector<std::shared_ptr<Microsoft::MSR::CNTK::ComputationNodeBase>,std::allocator<std::shared_ptr<Microsoft::MSR::CNTK::ComputationNodeBase>>> const&)::{lambda(std::shared_ptr<Microsoft::MSR::CNTK::ComputationNodeBase> const&)#1}>::  _M_invoke  (std::_Any_data const&,  std::shared_ptr<Microsoft::MSR::CNTK::ComputationNodeBase> const&) + 0x35\n[0x7fcce5ba480d]    void Microsoft::MSR::CNTK::ComputationNetwork::  TravserseInSortedGlobalEvalOrder  <std::vector<std::shared_ptr<Microsoft::MSR::CNTK::ComputationNodeBase>,std::allocator<std::shared_ptr<Microsoft::MSR::CNTK::ComputationNodeBase>>>>(std::vector<std::shared_ptr<Microsoft::MSR::CNTK::ComputationNodeBase>,std::allocator<std::shared_ptr<Microsoft::MSR::CNTK::ComputationNodeBase>>> const&,  std::function<void (std::shared_ptr<Microsoft::MSR::CNTK::ComputationNodeBase> const&)> const&) + 0x3ed\n[0x7fcce5b7133e]    CNTK::CompositeFunction::  Forward  (std::unordered_map<CNTK::Variable,std::shared_ptr<CNTK::Value>,std::hash<CNTK::Variable>,std::equal_to<CNTK::Variable>,std::allocator<std::pair<CNTK::Variable const,std::shared_ptr<CNTK::Value>>>> const&,  std::unordered_map<CNTK::Variable,std::shared_ptr<CNTK::Value>,std::hash<CNTK::Variable>,std::equal_to<CNTK::Variable>,std::allocator<std::pair<CNTK::Variable const,std::shared_ptr<CNTK::Value>>>>&,  CNTK::DeviceDescriptor const&,  std::unordered_set<CNTK::Variable,std::hash<CNTK::Variable>,std::equal_to<CNTK::Variable>,std::allocator<CNTK::Variable>> const&,  std::unordered_set<CNTK::Variable,std::hash<CNTK::Variable>,std::equal_to<CNTK::Variable>,std::allocator<CNTK::Variable>> const&) + 0x7ae\n[0x7fcce5b2f161]    CNTK::Function::  Forward  (std::unordered_map<CNTK::Variable,std::shared_ptr<CNTK::Value>,std::hash<CNTK::Variable>,std::equal_to<CNTK::Variable>,std::allocator<std::pair<CNTK::Variable const,std::shared_ptr<CNTK::Value>>>> const&,  std::unordered_map<CNTK::Variable,std::shared_ptr<CNTK::Value>,std::hash<CNTK::Variable>,std::equal_to<CNTK::Variable>,std::allocator<std::pair<CNTK::Variable const,std::shared_ptr<CNTK::Value>>>>&,  CNTK::DeviceDescriptor const&,  std::unordered_set<CNTK::Variable,std::hash<CNTK::Variable>,std::equal_to<CNTK::Variable>,std::allocator<CNTK::Variable>> const&,  std::unordered_set<CNTK::Variable,std::hash<CNTK::Variable>,std::equal_to<CNTK::Variable>,std::allocator<CNTK::Variable>> const&) + 0x81\n[0x7fcce5beaa9d]    CNTK::Trainer::  ExecuteForwardBackward  (std::unordered_map<CNTK::Variable,std::shared_ptr<CNTK::Value>,std::hash<CNTK::Variable>,std::equal_to<CNTK::Variable>,std::allocator<std::pair<CNTK::Variable const,std::shared_ptr<CNTK::Value>>>> const&,  std::unordered_map<CNTK::Variable,std::shared_ptr<CNTK::Value>,std::hash<CNTK::Variable>,std::equal_to<CNTK::Variable>,std::allocator<std::pair<CNTK::Variable const,std::shared_ptr<CNTK::Value>>>>&,  CNTK::DeviceDescriptor const&,  std::unordered_map<CNTK::Variable,std::shared_ptr<CNTK::Value>,std::hash<CNTK::Variable>,std::equal_to<CNTK::Variable>,std::allocator<std::pair<CNTK::Variable const,std::shared_ptr<CNTK::Value>>>>&) + 0x24d\n[0x7fcce5beb5e3]    CNTK::Trainer::  TrainLocalMinibatch  (std::unordered_map<CNTK::Variable,std::shared_ptr<CNTK::Value>,std::hash<CNTK::Variable>,std::equal_to<CNTK::Variable>,std::allocator<std::pair<CNTK::Variable const,std::shared_ptr<CNTK::Value>>>> const&,  std::unordered_map<CNTK::Variable,std::shared_ptr<CNTK::Value>,std::hash<CNTK::Variable>,std::equal_to<CNTK::Variable>,std::allocator<std::pair<CNTK::Variable const,std::shared_ptr<CNTK::Value>>>>&,  bool,  CNTK::DeviceDescriptor const&) + 0xd3\n[0x7fcce5bec2a4]    CNTK::Trainer::  TrainMinibatch  (std::unordered_map<CNTK::Variable,std::shared_ptr<CNTK::Value>,std::hash<CNTK::Variable>,std::equal_to<CNTK::Variable>,std::allocator<std::pair<CNTK::Variable const,std::shared_ptr<CNTK::Value>>>> const&,  std::unordered_map<CNTK::Variable,std::shared_ptr<CNTK::Value>,std::hash<CNTK::Variable>,std::equal_to<CNTK::Variable>,std::allocator<std::pair<CNTK::Variable const,std::shared_ptr<CNTK::Value>>>>&,  CNTK::DeviceDescriptor const&) + 0x44\n[0x7fcce5bec3a0]    CNTK::Trainer::  TrainMinibatch  (std::unordered_map<CNTK::Variable,std::shared_ptr<CNTK::Value>,std::hash<CNTK::Variable>,std::equal_to<CNTK::Variable>,std::allocator<std::pair<CNTK::Variable const,std::shared_ptr<CNTK::Value>>>> const&,  CNTK::DeviceDescriptor const&) + 0xa0\n[0x7fcce65cac9f]                                                       + 0x1efc9f\n[0x7fcd486615e9]    PyCFunction_Call                                   + 0xf9\n[0x7fcd486e67c0]    PyEval_EvalFrameEx                                 + 0x6ba0\n[0x7fcd486e9b49]                                                       + 0x144b49\n[0x7fcd486e8df5]    PyEval_EvalFrameEx                                 + 0x91d5\n[0x7fcd486e9b49]                                                       + 0x144b49\n[0x7fcd486e8df5]    PyEval_EvalFrameEx                                 + 0x91d5\n[0x7fcd486e9b49]                                                       + 0x144b49\n[0x7fcd486e9cd8]    PyEval_EvalCodeEx                                  + 0x48\n[0x7fcd486e9d1b]    PyEval_EvalCode                                    + 0x3b\n[0x7fcd486dcdfe]                                                       + 0x137dfe\n[0x7fcd486615e9]    PyCFunction_Call                                   + 0xf9\n[0x7fcd486e8bd5]    PyEval_EvalFrameEx                                 + 0x8fb5\n[0x7fcd486e9b49]                                                       + 0x144b49\n[0x7fcd486e9cd8]    PyEval_EvalCodeEx                                  + 0x48\n[0x7fcd4863f661]                                                       + 0x9a661\n[0x7fcd4860c236]    PyObject_Call                                      + 0x56\n[0x7fcd486e6234]    PyEval_EvalFrameEx                                 + 0x6614\n[0x7fcd486e9b49]                                                       + 0x144b49\n[0x7fcd486e8df5]    PyEval_EvalFrameEx                                 + 0x91d5\n[0x7fcd486e9b49]                                                       + 0x144b49\n[0x7fcd486e8df5]    PyEval_EvalFrameEx                                 + 0x91d5\n[0x7fcd486e9166]    PyEval_EvalFrameEx                                 + 0x9546\n[0x7fcd486e9b49]                                                       + 0x144b49\n[0x7fcd486e9cd8]    PyEval_EvalCodeEx                                  + 0x48\n[0x7fcd486e9d1b]    PyEval_EvalCode                                    + 0x3b\n[0x7fcd486dcdfe]                                                       + 0x137dfe\n[0x7fcd486615e9]    PyCFunction_Call                                   + 0xf9\n[0x7fcd486e8bd5]    PyEval_EvalFrameEx                                 + 0x8fb5\n[0x7fcd486e9b49]                                                       + 0x144b49\n[0x7fcd486e8df5]    PyEval_EvalFrameEx                                 + 0x91d5\n[0x7fcd486e9b49]                                                       + 0x144b49\n[0x7fcd486e8df5]    PyEval_EvalFrameEx                                 + 0x91d5\n[0x7fcd486e9b49]                                                       + 0x144b49\n[0x7fcd486e9cd8]    PyEval_EvalCodeEx                                  + 0x48\n[0x7fcd4863f661]                                                       + 0x9a661\n[0x7fcd4860c236]    PyObject_Call                                      + 0x56\n[0x7fcd486e6234]    PyEval_EvalFrameEx                                 + 0x6614\n[0x7fcd486e9b49]                                                       + 0x144b49\n[0x7fcd486e8df5]    PyEval_EvalFrameEx                                 + 0x91d5\n[0x7fcd486e9b49]                                                       + 0x144b49\n[0x7fcd486e8df5]    PyEval_EvalFrameEx                                 + 0x91d5\n[0x7fcd486e9166]    PyEval_EvalFrameEx                                 + 0x9546 (x2)\n[0x7fcd486e9b49]                                                       + 0x144b49\n[0x7fcd486e9cd8]    PyEval_EvalCodeEx                                  + 0x48\n[0x7fcd4863f661]                                                       + 0x9a661\n[0x7fcd4860c236]    PyObject_Call                                      + 0x56\n[0x7fcd486e6234]    PyEval_EvalFrameEx                                 + 0x6614\n[0x7fcd486e9b49]                                                       + 0x144b49\n[0x7fcd486e9cd8]    PyEval_EvalCodeEx                                  + 0x48\n[0x7fcd4863f661]                                                       + 0x9a661\n[0x7fcd4860c236]    PyObject_Call                                      + 0x56\n[0x7fcd486e6234]    PyEval_EvalFrameEx                                 + 0x6614\n[0x7fcd486e9b49]                                                       + 0x144b49\n[0x7fcd486e8df5]    PyEval_EvalFrameEx                                 + 0x91d5\n[0x7fcd486e9166]    PyEval_EvalFrameEx                                 + 0x9546\n[0x7fcd486e9b49]                                                       + 0x144b49\n[0x7fcd486e9cd8]    PyEval_EvalCodeEx                                  + 0x48\n[0x7fcd4863f661]                                                       + 0x9a661\n[0x7fcd4860c236]    PyObject_Call                                      + 0x56\n[0x7fcd486e6234]    PyEval_EvalFrameEx                                 + 0x6614\n[0x7fcd486e9b49]                                                       + 0x144b49\n[0x7fcd486e8df5]    PyEval_EvalFrameEx                                 + 0x91d5\n[0x7fcd486e9166]    PyEval_EvalFrameEx                                 + 0x9546\n[0x7fcd486e9b49]                                                       + 0x144b49\n[0x7fcd486e8df5]    PyEval_EvalFrameEx                                 + 0x91d5\n[0x7fcd486e9166]    PyEval_EvalFrameEx                                 + 0x9546\n[0x7fcd486e9b49]                                                       + 0x144b49\n[0x7fcd486e8df5]    PyEval_EvalFrameEx                                 + 0x91d5\n[0x7fcd486e9b49]                                                       + 0x144b49\n[0x7fcd486e9cd8]    PyEval_EvalCodeEx                                  + 0x48\n[0x7fcd486e9d1b]    PyEval_EvalCode                                    + 0x3b\n[0x7fcd486dcdfe]                                                       + 0x137dfe\n[0x7fcd486615e9]    PyCFunction_Call                                   + 0xf9\n[0x7fcd486e8bd5]    PyEval_EvalFrameEx                                 + 0x8fb5\n[0x7fcd486e9b49]                                                       + 0x144b49\n[0x7fcd486e8df5]    PyEval_EvalFrameEx                                 + 0x91d5\n[0x7fcd486e9b49]                                                       + 0x144b49\n[0x7fcd486e9cd8]    PyEval_EvalCodeEx                                  + 0x48\n[0x7fcd4863f542]                                                       + 0x9a542\n[0x7fcd4860c236]    PyObject_Call                                      + 0x56\n[0x7fcd4872a8a2]                                                       + 0x1858a2\n[0x7fcd4872b565]    Py_Main                                            + 0x945\n[0x400add]          main                                               + 0x15d\n[0x7fcd476c6830]    __libc_start_main                                  + 0xf0\n[0x4008b9]                                                            \n"
     ]
    }
   ],
   "source": [
    "%%time\n",
    "# Train model\n",
    "for j in range(EPOCHS):\n",
    "    for data, label in yield_mb(x_train, y_train, BATCHSIZE, shuffle=True):\n",
    "        label = label.reshape(BATCHSIZE, 1)\n",
    "        print(type(data))\n",
    "        print(data.shape)\n",
    "        print(type(label))\n",
    "        print(label.shape)\n",
    "        trainer.train_minibatch({features: data, labels: label})\n",
    "        print(len(data))\n",
    "        print(data[0])\n",
    "        break\n",
    "    break\n",
    "    # Log (this is just last batch in epoch, not average of batches)\n",
    "    eval_error = trainer.previous_minibatch_evaluation_average\n",
    "    print(\"Epoch %d  |  Accuracy: %.6f\" % (j+1, (1-eval_error)))"
   ]
  },
  {
   "cell_type": "code",
   "execution_count": null,
   "metadata": {
    "collapsed": true,
    "deletable": true,
    "editable": true
   },
   "outputs": [],
   "source": []
  }
 ],
 "metadata": {
  "anaconda-cloud": {},
  "kernelspec": {
   "display_name": "Python 3.5",
   "language": "python",
   "name": "python3"
  },
  "language_info": {
   "codemirror_mode": {
    "name": "ipython",
    "version": 3
   },
   "file_extension": ".py",
   "mimetype": "text/x-python",
   "name": "python",
   "nbconvert_exporter": "python",
   "pygments_lexer": "ipython3",
   "version": "3.5.2"
  }
 },
 "nbformat": 4,
 "nbformat_minor": 2
}
