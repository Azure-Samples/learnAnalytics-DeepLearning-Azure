{
  "cells": [
    {
      "cell_type": "code",
      "execution_count": null,
      "metadata": {
        "collapsed": false
      },
      "outputs": [],
      "source": [
        "%matplotlib inline"
      ]
    },
    {
      "cell_type": "markdown",
      "metadata": {},
      "source": [
        "\nTransfering a model from PyTorch to Caffe2 and Mobile using ONNX\n================================================================\n\nIn this tutorial, we describe how to use ONNX to convert a model defined\nin PyTorch into the ONNX format and then load it into Caffe2. Once in\nCaffe2, we can run the model to double-check it was exported correctly,\nand we then show how to use Caffe2 features such as mobile exporter for\nexecuting the model on mobile devices.\n\nFor this tutorial, you will need to install `onnx <https://github.com/onnx/onnx>`__,\n`onnx-caffe2 <https://github.com/onnx/onnx-caffe2>`__ and `Caffe2 <https://caffe2.ai/>`__.\nYou can get binary builds of onnx and onnx-caffe2 with\n``conda install -c ezyang onnx onnx-caffe2``.\n\n``NOTE``: This tutorial needs PyTorch master branch which can be installed by following\nthe instructions `here <https://github.com/pytorch/pytorch#from-source>`__\n\n\n"
      ]
    },
    {
      "cell_type": "code",
      "execution_count": null,
      "metadata": {
        "collapsed": false
      },
      "outputs": [],
      "source": [
        "# Some standard imports\nimport io\nimport numpy as np\n\nfrom torch import nn\nfrom torch.autograd import Variable\nimport torch.utils.model_zoo as model_zoo\nimport torch.onnx"
      ]
    },
    {
      "cell_type": "markdown",
      "metadata": {},
      "source": [
        "Super-resolution is a way of increasing the resolution of images, videos\nand is widely used in image processing or video editing. For this\ntutorial, we will first use a small super-resolution model with a dummy\ninput.\n\nFirst, let's create a SuperResolution model in PyTorch. `This\nmodel <https://github.com/pytorch/examples/blob/master/super_resolution/model.py>`__\ncomes directly from PyTorch's examples without modification:\n\n\n"
      ]
    },
    {
      "cell_type": "code",
      "execution_count": null,
      "metadata": {
        "collapsed": false
      },
      "outputs": [],
      "source": [
        "# Super Resolution model definition in PyTorch\nimport torch.nn as nn\nimport torch.nn.init as init\n\n\nclass SuperResolutionNet(nn.Module):\n    def __init__(self, upscale_factor, inplace=False):\n        super(SuperResolutionNet, self).__init__()\n\n        self.relu = nn.ReLU(inplace=inplace)\n        self.conv1 = nn.Conv2d(1, 64, (5, 5), (1, 1), (2, 2))\n        self.conv2 = nn.Conv2d(64, 64, (3, 3), (1, 1), (1, 1))\n        self.conv3 = nn.Conv2d(64, 32, (3, 3), (1, 1), (1, 1))\n        self.conv4 = nn.Conv2d(32, upscale_factor ** 2, (3, 3), (1, 1), (1, 1))\n        self.pixel_shuffle = nn.PixelShuffle(upscale_factor)\n\n        self._initialize_weights()\n\n    def forward(self, x):\n        x = self.relu(self.conv1(x))\n        x = self.relu(self.conv2(x))\n        x = self.relu(self.conv3(x))\n        x = self.pixel_shuffle(self.conv4(x))\n        return x\n\n    def _initialize_weights(self):\n        init.orthogonal(self.conv1.weight, init.calculate_gain('relu'))\n        init.orthogonal(self.conv2.weight, init.calculate_gain('relu'))\n        init.orthogonal(self.conv3.weight, init.calculate_gain('relu'))\n        init.orthogonal(self.conv4.weight)\n\n# Create the super-resolution model by using the above model definition.\ntorch_model = SuperResolutionNet(upscale_factor=3)"
      ]
    },
    {
      "cell_type": "markdown",
      "metadata": {},
      "source": [
        "Ordinarily, you would now train this model; however, for this tutorial,\nwe will instead download some pre-trained weights. Note that this model\nwas not trained fully for good accuracy and is used here for\ndemonstration purposes only.\n\n\n"
      ]
    },
    {
      "cell_type": "code",
      "execution_count": null,
      "metadata": {
        "collapsed": false
      },
      "outputs": [],
      "source": [
        "# Load pretrained model weights\nmodel_url = 'https://s3.amazonaws.com/pytorch/test_data/export/superres_epoch100-44c6958e.pth'\nbatch_size = 1    # just a random number\n\n# Initialize model with the pretrained weights\nmap_location = lambda storage, loc: storage\nif torch.cuda.is_available():\n    map_location = None\ntorch_model.load_state_dict(model_zoo.load_url(model_url, map_location=map_location))\n\n# set the train mode to false since we will only run the forward pass.\ntorch_model.train(False)"
      ]
    },
    {
      "cell_type": "markdown",
      "metadata": {},
      "source": [
        "Exporting a model in PyTorch works via tracing. To export a model, you\ncall the ``torch.onnx._export()`` function. This will execute the model,\nrecording a trace of what operators are used to compute the outputs.\nBecause ``_export`` runs the model, we need provide an input tensor\n``x``. The values in this tensor are not important; it can be an image\nor a random tensor as long as it is the right size.\n\nTo learn more details about PyTorch's export interface, check out the\n`torch.onnx documentation <http://pytorch.org/docs/master/onnx.html>`__.\n\n\n"
      ]
    },
    {
      "cell_type": "code",
      "execution_count": null,
      "metadata": {
        "collapsed": false
      },
      "outputs": [],
      "source": [
        "# Input to the model\nx = Variable(torch.randn(batch_size, 1, 224, 224), requires_grad=True)\n\n# Export the model\ntorch_out = torch.onnx._export(torch_model,             # model being run\n                               x,                       # model input (or a tuple for multiple inputs)\n                               \"super_resolution.onnx\", # where to save the model (can be a file or file-like object)\n                               export_params=True)      # store the trained parameter weights inside the model file"
      ]
    },
    {
      "cell_type": "markdown",
      "metadata": {},
      "source": [
        "``torch_out`` is the output after executing the model. Normally you can\nignore this output, but here we will use it to verify that the model we\nexported computes the same values when run in Caffe2.\n\nNow let's take the ONNX representation and use it in Caffe2. This part\ncan normally be done in a separate process or on another machine, but we\nwill continue in the same process so that we can verify that Caffe2 and\nPyTorch are computing the same value for the network:\n\n\n"
      ]
    },
    {
      "cell_type": "code",
      "execution_count": null,
      "metadata": {
        "collapsed": false
      },
      "outputs": [],
      "source": [
        "import onnx\nimport onnx_caffe2.backend\n\n# Load the ONNX GraphProto object. Graph is a standard Python protobuf object\ngraph = onnx.load(\"super_resolution.onnx\")\n\n# prepare the caffe2 backend for executing the model this converts the ONNX graph into a\n# Caffe2 NetDef that can execute it. Other ONNX backends, like one for CNTK will be\n# availiable soon.\nprepared_backend = onnx_caffe2.backend.prepare(graph)\n\n# run the model in Caffe2\n\n# Construct a map from input names to Tensor data.\n# The graph itself contains inputs for all weight parameters, followed by the input image.\n# Since the weights are already embedded, we just need to pass the input image.\n# last input the grap\nW = {graph.input[-1]: x.data.numpy()}\n\n# Run the Caffe2 net:\nc2_out = prepared_backend.run(W)[0]\n\n# Verify the numerical correctness upto 3 decimal places\nnp.testing.assert_almost_equal(torch_out.data.cpu().numpy(), c2_out, decimal=3)"
      ]
    },
    {
      "cell_type": "markdown",
      "metadata": {},
      "source": [
        "We should see that the output of PyTorch and Caffe2 runs match\nnumerically up to 3 decimal places. As a side-note, if they do not match\nthen there is an issue that the operators in Caffe2 and PyTorch are\nimplemented differently and please contact us in that case.\n\n\n"
      ]
    },
    {
      "cell_type": "markdown",
      "metadata": {},
      "source": [
        "Transfering SRResNet using ONNX\n~~~~~~~~~~~~~~~~~~~~~~~~~~~~~~~\n\n\n"
      ]
    },
    {
      "cell_type": "markdown",
      "metadata": {},
      "source": [
        "Using the same process as above, we also transferred an interesting new\nmodel \"SRResNet\" for super-resolution presented in `this\npaper <https://arxiv.org/pdf/1609.04802.pdf>`__ (thanks to the authors\nat Twitter for providing us code and pretrained parameters for the\npurpose of this tutorial). The model definition and a pre-trained model\ncan be found\n`here <https://gist.github.com/prigoyal/b245776903efbac00ee89699e001c9bd>`__.\nBelow is what SRResNet model input, output looks like. |SRResNet|\n\n.. |SRResNet| image:: /_static/img/SRResNet.png\n\n\n"
      ]
    },
    {
      "cell_type": "markdown",
      "metadata": {},
      "source": [
        "Running the model on mobile devices\n~~~~~~~~~~~~~~~~~~~~~~~~~~~~~~~~~~~\n\n\n"
      ]
    },
    {
      "cell_type": "markdown",
      "metadata": {},
      "source": [
        "So far we have exported a model from PyTorch and shown how to load it\nand run it in Caffe2. Now that the model is loaded in Caffe2, we can\nconvert it into a format suitable for `running on mobile\ndevices <https://caffe2.ai/docs/mobile-integration.html>`__.\n\nWe will use Caffe2's\n`mobile\\_exporter <https://github.com/caffe2/caffe2/blob/master/caffe2/python/predictor/mobile_exporter.py>`__\nto generate the two model protobufs that can run on mobile. The first is\nused to initialize the network with the correct weights, and the second\nactual runs executes the model. We will continue to use the small\nsuper-resolution model for the rest of this tutorial.\n\n\n"
      ]
    },
    {
      "cell_type": "code",
      "execution_count": null,
      "metadata": {
        "collapsed": false
      },
      "outputs": [],
      "source": [
        "# extract the workspace and the graph proto from the internal representation\nc2_workspace = prepared_backend.workspace\nc2_graph = prepared_backend.predict_net\n\n# Now import the caffe2 mobile exporter\nfrom caffe2.python.predictor import mobile_exporter\n\n# call the Export to get the predict_net, init_net. These nets are needed for running things on mobile\ninit_net, predict_net = mobile_exporter.Export(c2_workspace, c2_graph, c2_graph.external_input)\n\n# Let's also save the init_net and predict_net to a file that we will later use for running them on mobile\nwith open('init_net.pb', \"wb\") as fopen:\n    fopen.write(init_net.SerializeToString())\nwith open('predict_net.pb', \"wb\") as fopen:\n    fopen.write(predict_net.SerializeToString())"
      ]
    },
    {
      "cell_type": "markdown",
      "metadata": {},
      "source": [
        "``init_net`` has the model parameters and the model input embedded in it\nand ``predict_net`` will be used to guide the ``init_net`` execution at\nrun-time. In this tutorial, we will use the ``init_net`` and\n``predict_net`` generated above and run them in both normal Caffe2\nbackend and mobile and verify that the output high-resolution cat image\nproduced in both runs is the same.\n\nFor this tutorial, we will use a famous cat image used widely which\nlooks like below\n\n.. figure:: /_static/img/cat_224x224.jpg\n   :alt: cat\n\n\n"
      ]
    },
    {
      "cell_type": "code",
      "execution_count": null,
      "metadata": {
        "collapsed": false
      },
      "outputs": [],
      "source": [
        "# Some standard imports\nfrom caffe2.proto import caffe2_pb2\nfrom caffe2.python import core, net_drawer, net_printer, visualize, workspace, utils\n\nimport numpy as np\nimport os\nimport subprocess\nfrom PIL import Image\nfrom matplotlib import pyplot\nfrom skimage import io, transform"
      ]
    },
    {
      "cell_type": "markdown",
      "metadata": {},
      "source": [
        "First, let's load the image, pre-process it using standard skimage\npython library. Note that this preprocessing is the standard practice of\nprocessing data for training/testing neural networks.\n\n\n"
      ]
    },
    {
      "cell_type": "code",
      "execution_count": null,
      "metadata": {
        "collapsed": false
      },
      "outputs": [],
      "source": [
        "# load the image\nimg_in = io.imread(\"./_static/img/cat.jpg\")\n\n# resize the image to dimensions 224x224\nimg = transform.resize(img_in, [224, 224])\n\n# save this resized image to be used as input to the model\nio.imsave(\"./_static/img/cat_224x224.jpg\", img)"
      ]
    },
    {
      "cell_type": "markdown",
      "metadata": {},
      "source": [
        "Now, as a next step, let's take the resized cat image and run the\nsuper-resolution model in Caffe2 backend and save the output image. The\nimage processing steps below have been adopted from PyTorch\nimplementation of super-resolution model\n`here <https://github.com/pytorch/examples/blob/master/super_resolution/super_resolve.py>`__\n\n\n"
      ]
    },
    {
      "cell_type": "code",
      "execution_count": null,
      "metadata": {
        "collapsed": false
      },
      "outputs": [],
      "source": [
        "# load the resized image and convert it to Ybr format\nimg = Image.open(\"./_static/img/cat_224x224.jpg\")\nimg_ycbcr = img.convert('YCbCr')\nimg_y, img_cb, img_cr = img_ycbcr.split()\n\n# Let's run the mobile nets that we generated above so that caffe2 workspace is properly initialized\nworkspace.RunNetOnce(init_net)\nworkspace.RunNetOnce(predict_net)\n\n# Caffe2 has a nice net_printer to be able to inspect what the net looks like and identify\n# what our input and output blob names are.\nprint(net_printer.to_string(predict_net))"
      ]
    },
    {
      "cell_type": "markdown",
      "metadata": {},
      "source": [
        "From the above output, we can see that input is named \"9\" and output is\nnamed \"27\"(it is a little bit weird that we will have numbers as blob\nnames but this is because the tracing JIT produces numbered entries for\nthe models)\n\n\n"
      ]
    },
    {
      "cell_type": "code",
      "execution_count": null,
      "metadata": {
        "collapsed": false
      },
      "outputs": [],
      "source": [
        "# Now, let's also pass in the resized cat image for processing by the model.\nworkspace.FeedBlob(\"9\", np.array(img_y)[np.newaxis, np.newaxis, :, :].astype(np.float32))\n\n# run the predict_net to get the model output\nworkspace.RunNetOnce(predict_net)\n\n# Now let's get the model output blob\nimg_out = workspace.FetchBlob(\"27\")"
      ]
    },
    {
      "cell_type": "markdown",
      "metadata": {},
      "source": [
        "Now, we'll refer back to the post-processing steps in PyTorch\nimplementation of super-resolution model\n`here <https://github.com/pytorch/examples/blob/master/super_resolution/super_resolve.py>`__\nto construct back the final output image and save the image.\n\n\n"
      ]
    },
    {
      "cell_type": "code",
      "execution_count": null,
      "metadata": {
        "collapsed": false
      },
      "outputs": [],
      "source": [
        "img_out_y = Image.fromarray(np.uint8((img_out[0, 0]).clip(0, 255)), mode='L')\n\n# get the output image follow post-processing step from PyTorch implementation\nfinal_img = Image.merge(\n    \"YCbCr\", [\n        img_out_y,\n        img_cb.resize(img_out_y.size, Image.BICUBIC),\n        img_cr.resize(img_out_y.size, Image.BICUBIC),\n    ]).convert(\"RGB\")\n\n# Save the image, we will compare this with the output image from mobile device\nfinal_img.save(\"./_static/img/cat_superres.jpg\")"
      ]
    },
    {
      "cell_type": "markdown",
      "metadata": {},
      "source": [
        "We have finished running our mobile nets in pure Caffe2 backend and now,\nlet's execute the model on an Android device and get the model output.\n\n``NOTE``: for Android development, ``adb`` shell is needed otherwise the\nfollowing section of tutorial will not run.\n\nIn our first step of runnig model on mobile, we will push a native speed\nbenchmark binary for mobile device to adb. This binary can execute the\nmodel on mobile and also export the model output that we can retrieve\nlater. The binary is available\n`here <https://github.com/caffe2/caffe2/blob/master/caffe2/binaries/speed_benchmark.cc>`__.\nIn order to build the binary, execute the ``build_android.sh`` script\nfollowing the instructions\n`here <https://github.com/caffe2/caffe2/blob/master/scripts/build_android.sh>`__.\n\n``NOTE``: You need to have ``ANDROID_NDK`` installed and set your env\nvariable ``ANDROID_NDK=path to ndk root``\n\n\n"
      ]
    },
    {
      "cell_type": "code",
      "execution_count": null,
      "metadata": {
        "collapsed": false
      },
      "outputs": [],
      "source": [
        "# let's first push a bunch of stuff to adb, specify the path for the binary\nCAFFE2_MOBILE_BINARY = ('caffe2/binaries/speed_benchmark')\n\n# we had saved our init_net and proto_net in steps above, we use them now.\n# Push the binary and the model protos\nos.system('adb push ' + CAFFE2_MOBILE_BINARY + ' /data/local/tmp/')\nos.system('adb push init_net.pb /data/local/tmp')\nos.system('adb push predict_net.pb /data/local/tmp')\n\n# Let's serialize the input image blob to a blob proto and then send it to mobile for execution.\nwith open(\"input.blobproto\", \"wb\") as fid:\n    fid.write(workspace.SerializeBlob(\"9\"))\n\n# push the input image blob to adb\nos.system('adb push input.blobproto /data/local/tmp/')\n\n# Now we run the net on mobile, look at the speed_benchmark --help for what various options mean\nos.system(\n    'adb shell /data/local/tmp/speed_benchmark '                     # binary to execute\n    '--init_net=/data/local/tmp/super_resolution_mobile_init.pb '    # mobile init_net\n    '--net=/data/local/tmp/super_resolution_mobile_predict.pb '      # mobile predict_net\n    '--input=9 '                                                     # name of our input image blob\n    '--input_file=/data/local/tmp/input.blobproto '                  # serialized input image\n    '--output_folder=/data/local/tmp '                               # destination folder for saving mobile output\n    '--output=27,9 '                                                 # output blobs we are interested in\n    '--iter=1 '                                                      # number of net iterations to execute\n    '--caffe2_log_level=0 '\n)\n\n# get the model output from adb and save to a file\nos.system('adb pull /data/local/tmp/27 ./output.blobproto')\n\n\n# We can recover the output content and post-process the model using same steps as we followed earlier\nblob_proto = caffe2_pb2.BlobProto()\nblob_proto.ParseFromString(open('./output.blobproto').read())\nimg_out = utils.Caffe2TensorToNumpyArray(blob_proto.tensor)\nimg_out_y = Image.fromarray(np.uint8((img_out[0,0]).clip(0, 255)), mode='L')\nfinal_img = Image.merge(\n    \"YCbCr\", [\n        img_out_y,\n        img_cb.resize(img_out_y.size, Image.BICUBIC),\n        img_cr.resize(img_out_y.size, Image.BICUBIC),\n    ]).convert(\"RGB\")\nfinal_img.save(\"./_static/img/cat_superres_mobile.jpg\")"
      ]
    },
    {
      "cell_type": "markdown",
      "metadata": {},
      "source": [
        "Now, you can compare the image ``cat_superres.jpg`` (model output from\npure caffe2 backend execution) and ``cat_superres_mobile.jpg`` (model\noutput from mobile execution) and see that both the images look same. If\nthey don't look same, something went wrong with execution on mobile and\nin that case, please contact Caffe2 community. You should expect to see\nthe output image to look like following:\n\n.. figure:: /_static/img/cat_output1.png\n   :alt: output\\_cat\n\n\nUsing the above steps, you can deploy your models on mobile easily.\nAlso, for more information on caffe2 mobile backend, checkout\n`caffe2-android-demo <https://caffe2.ai/docs/AI-Camera-demo-android.html>`__.\n\n\n"
      ]
    }
  ],
  "metadata": {
    "kernelspec": {
      "display_name": "Python 3",
      "language": "python",
      "name": "python3"
    },
    "language_info": {
      "codemirror_mode": {
        "name": "ipython",
        "version": 3
      },
      "file_extension": ".py",
      "mimetype": "text/x-python",
      "name": "python",
      "nbconvert_exporter": "python",
      "pygments_lexer": "ipython3",
      "version": "3.6.1"
    }
  },
  "nbformat": 4,
  "nbformat_minor": 0
}