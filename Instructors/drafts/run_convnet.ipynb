{
 "cells": [
  {
   "cell_type": "code",
   "execution_count": 3,
   "metadata": {},
   "outputs": [
    {
     "name": "stderr",
     "output_type": "stream",
     "text": [
      "Using TensorFlow backend.\n"
     ]
    }
   ],
   "source": [
    "#import imp\n",
    "#imp.reload(convnet) \n",
    "import convnet"
   ]
  },
  {
   "cell_type": "code",
   "execution_count": 4,
   "metadata": {},
   "outputs": [],
   "source": [
    "def neat_timestring():\n",
    "    import datetime\n",
    "    now = datetime.datetime.now()\n",
    "    return '_'.join((str(x) for x in (now.minute, now.hour, now.day, now.month, now.year)))\n"
   ]
  },
  {
   "cell_type": "code",
   "execution_count": 7,
   "metadata": {
    "scrolled": true
   },
   "outputs": [
    {
     "name": "stdout",
     "output_type": "stream",
     "text": [
      "0.05;Epoch 1/1\n",
      " - 6s - loss: 3.2586 - acc: 0.4800\n",
      "Epoch 2/2\n",
      " - 6s - loss: 0.9981 - acc: 0.5600\n",
      "Epoch 3/3\n",
      " - 6s - loss: 0.6769 - acc: 0.5200\n",
      "Epoch 4/4\n",
      " - 6s - loss: 0.5896 - acc: 0.6400\n",
      "Epoch 5/5\n",
      " - 6s - loss: 0.5277 - acc: 0.6400\n",
      "Epoch 6/6\n",
      " - 5s - loss: 0.4521 - acc: 0.7600\n",
      "Epoch 7/7\n",
      " - 6s - loss: 0.3816 - acc: 0.9600\n",
      "Epoch 8/8\n",
      " - 6s - loss: 0.2665 - acc: 1.0000\n",
      "Epoch 9/9\n",
      " - 6s - loss: 0.1781 - acc: 0.9600\n",
      "Epoch 10/10\n",
      " - 6s - loss: 0.1276 - acc: 0.9200\n",
      "25/25 [==============================] - 0s 15ms/step\n",
      "Score  ['loss', 'acc']  ,  [0.79228538274765015, 0.60000002384185791]\n",
      "0.06;Epoch 1/1\n",
      " - 7s - loss: 1.3191 - acc: 0.5200\n",
      "Epoch 2/2\n",
      " - 5s - loss: 0.7173 - acc: 0.4000\n",
      "Epoch 3/3\n",
      " - 6s - loss: 0.6579 - acc: 0.6000\n",
      "Epoch 4/4\n",
      " - 6s - loss: 0.6411 - acc: 0.6000\n",
      "Epoch 5/5\n",
      " - 6s - loss: 0.5193 - acc: 0.8400\n",
      "Epoch 6/6\n",
      " - 6s - loss: 0.3957 - acc: 0.8800\n",
      "Epoch 7/7\n",
      " - 5s - loss: 0.2233 - acc: 1.0000\n",
      "Epoch 8/8\n",
      " - 6s - loss: 0.0995 - acc: 1.0000\n",
      "Epoch 9/9\n",
      " - 6s - loss: 0.0376 - acc: 1.0000\n",
      "Epoch 10/10\n",
      " - 6s - loss: 0.0097 - acc: 1.0000\n",
      "25/25 [==============================] - 0s 14ms/step\n",
      "Score  ['loss', 'acc']  ,  [0.80315923690795898, 0.68000000715255737]\n",
      "0.07;Epoch 1/1\n",
      " - 6s - loss: 6.4699 - acc: 0.6000\n",
      "Epoch 2/2\n",
      " - 6s - loss: 6.3770 - acc: 0.6000\n",
      "Epoch 3/3\n",
      " - 6s - loss: 6.3770 - acc: 0.6000\n",
      "Epoch 4/4\n",
      " - 5s - loss: 6.3770 - acc: 0.6000\n",
      "Epoch 5/5\n",
      " - 6s - loss: 6.3770 - acc: 0.6000\n",
      "Epoch 6/6\n",
      " - 6s - loss: 6.3770 - acc: 0.6000\n",
      "Epoch 7/7\n",
      " - 6s - loss: 6.3770 - acc: 0.6000\n",
      "Epoch 8/8\n",
      " - 6s - loss: 6.3770 - acc: 0.6000\n",
      "Epoch 9/9\n",
      " - 6s - loss: 6.3770 - acc: 0.6000\n",
      "Epoch 10/10\n",
      " - 6s - loss: 6.3770 - acc: 0.6000\n",
      "25/25 [==============================] - 0s 15ms/step\n",
      "Score  ['loss', 'acc']  ,  [6.3769545555114746, 0.60000002384185791]\n"
     ]
    }
   ],
   "source": [
    "\n",
    "with open(neat_timestring() + '_out.txt', 'w') as fd:\n",
    "    fd.write('n\\tdropout_rate\\tloss\\taccuracy\\n')\n",
    "    for n, k in enumerate(range(5, 25)):\n",
    "        dr = float(k)/100.0\n",
    "        print(dr, end=';')\n",
    "        sc = convnet.build_conv(dr, 10)\n",
    "        fd.write('{0}\\t{1}\\t{2}\\t{3}\\n'.format(n, dr, sc[0], sc[1]))\n",
    "        fd.flush()\n",
    "\n"
   ]
  }
 ],
 "metadata": {
  "kernelspec": {
   "display_name": "Python [conda env:py35]",
   "language": "python",
   "name": "conda-env-py35-py"
  },
  "language_info": {
   "codemirror_mode": {
    "name": "ipython",
    "version": 3
   },
   "file_extension": ".py",
   "mimetype": "text/x-python",
   "name": "python",
   "nbconvert_exporter": "python",
   "pygments_lexer": "ipython3",
   "version": "3.5.2"
  }
 },
 "nbformat": 4,
 "nbformat_minor": 2
}
